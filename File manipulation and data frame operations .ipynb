{
 "cells": [
  {
   "cell_type": "markdown",
   "metadata": {},
   "source": [
    "Here we have a data set on \"\n",
    "Activity recognition with healthy older people using a batteryless wearable sensor Data Set\". Url: https://archive.ics.uci.edu/ml/datasets/Activity+recognition+with+healthy+older+people+using+a+batteryless+wearable+sensor\n",
    "\n",
    "There are multiple files with no extenion, and we will convert them all to csv files using python.\n",
    "After converting them into csv files, we will merge them all to form final two csv files according the classification of gender."
   ]
  },
  {
   "cell_type": "code",
   "execution_count": null,
   "metadata": {},
   "outputs": [],
   "source": [
    "# To convert the files into csv\n",
    "import os\n",
    "\n",
    "path = os.getcwd()# mention the path for the location of the file, in my case it is in the same directory\n",
    "\n",
    "def change_file(path):\n",
    "    try:\n",
    "        os.chdir(path=path)\n",
    "        file_list = os.listdir()\n",
    "        for file in file_list:\n",
    "            if not file == 'README.txt':\n",
    "                os.rename(file,file+'.csv')\n"
   ]
  },
  {
   "cell_type": "code",
   "execution_count": null,
   "metadata": {},
   "outputs": [],
   "source": [
    "path = str(input(\"Provide the path where the downloaded files are there: \"))\n",
    "os.chdir(path=path)\n",
    "\n",
    "\n",
    "def master(path,columns):\n",
    "    \"\"\"\n",
    "    This function will combine all the csv files into one single csv file.\n",
    "    :param path: Path of the directory where all the csv files are there.\n",
    "    :return: Dataframe of combines data sets.\n",
    "    \"\"\"\n",
    "    try:\n",
    "        master_f = pd.DataFrame()\n",
    "        master_m = pd.DataFrame()\n",
    "        os.chdir(path=path)\n",
    "        #l1 = []\n",
    "        #l2 = []\n",
    "        for file in os.listdir():\n",
    "            if file.endswith('F.csv'):\n",
    "                dataframe_f = pd.read_csv(file)\n",
    "                dataframe_f.columns = columns\n",
    "                master_f = master_f.append(dataframe_f)\n",
    "                #l1.append(file)\n",
    "            if file.endswith('M.csv'):\n",
    "                dataframe_m = pd.read_csv(file)\n",
    "                dataframe_m.columns=columns\n",
    "                master_m = master_m.append(dataframe_m)\n",
    "                #l2.append(file)\n",
    "        #print(l1,l2)\n",
    "    except Exception as e:\n",
    "        raise Exception(f\"(master)Something went wrong: \"+str(e))\n",
    "    return master_f,master_m\n",
    "\n",
    "paths1 = os.getcwd()+'\\\\S1_Dataset'\n",
    "paths2 = os.getcwd()+'\\\\S2_Dataset'\n",
    "\n",
    "columns= ['Time_in_seconds','Acceleration_reading_in_G_for_frontal_axis','Acceleration_reading_in_G_for_vertical_axis','Acceleration_reading_in_G_for_lateral_axis','Id_of_antenna_reading_sensor','Received_signal_strength_indicator(RSSI)','Phase','Frequency','Label_of_activity']\n",
    "\n",
    "partial_data_female_s2 , partial_data_male_s2 = master(path=paths2, columns=columns)\n",
    "partial_data_female_s1 , partial_data_male_s1 = master(path=paths1, columns=columns)\n",
    "Data_male = pd.DataFrame()\n",
    "Data_female = pd.DataFrame()\n",
    "Data_male = Data_male.append(partial_data_male_s1)\n",
    "Data_male = Data_male.append(partial_data_male_s2)\n",
    "Data_female = Data_female.append(partial_data_female_s1)\n",
    "Data_female = Data_female.append(partial_data_female_s2)\n",
    "\n",
    "\n",
    "saving_loc = str(input(\"Enter the path where you want to save the file: \"))\n",
    "os.chdir(path=saving_loc)\n",
    "Data_male.to_csv(\"Data_male.csv\")\n",
    "Data_female.to_csv(\"Data_female.csv\")"
   ]
  }
 ],
 "metadata": {
  "kernelspec": {
   "display_name": "Python 3",
   "language": "python",
   "name": "python3"
  },
  "language_info": {
   "codemirror_mode": {
    "name": "ipython",
    "version": 3
   },
   "file_extension": ".py",
   "mimetype": "text/x-python",
   "name": "python",
   "nbconvert_exporter": "python",
   "pygments_lexer": "ipython3",
   "version": "3.8.5"
  }
 },
 "nbformat": 4,
 "nbformat_minor": 4
}
